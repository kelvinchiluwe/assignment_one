{
 "cells": [
  {
   "cell_type": "code",
   "execution_count": 17,
   "id": "18d0a69c-68bc-4dae-9a5d-e8c2c4b99c0a",
   "metadata": {},
   "outputs": [],
   "source": [
    "students={}"
   ]
  },
  {
   "cell_type": "code",
   "execution_count": 18,
   "id": "7c58948d-7289-4434-883a-c89b44e06540",
   "metadata": {},
   "outputs": [],
   "source": [
    "def add_new_student_and_grades():\n",
    "    name=input(\"name of the student:\")\n",
    "    grades_input=input(\"grades'separate them by commas':\")\n",
    "    grades = [int(grade) for grade in grades_input.split(',')]\n",
    "    students[name]=grades\n",
    "    print(f\"Student {name} and their grades have been added: {students[name]}\")"
   ]
  },
  {
   "cell_type": "code",
   "execution_count": 20,
   "id": "6a774783-55b7-4782-972e-5c8305b7cfce",
   "metadata": {},
   "outputs": [],
   "source": [
    "def average_grade():\n",
    "    for name, grades in students.items():\n",
    "        average = sum(grades) / len(grades)  \n",
    "        print(f\"Average grade for {name}: {grades}\")"
   ]
  },
  {
   "cell_type": "code",
   "execution_count": null,
   "id": "f3c0233d-eb4e-4ad9-86b3-33552b94b1b3",
   "metadata": {},
   "outputs": [],
   "source": [
    "def top_student():\n",
    "    student_averages = []\n",
    "    for name, grades in students.items():\n",
    "        average = sum(grades) / len(grades)\n",
    "        student_averages.append((name, average))\n",
    "    \n",
    "    student_averages.sort(key=lambda x: x[1], reverse=True)\n",
    "    top_student = student_averages[0]\n",
    "    print(f'The top student is {top_student[0]} with an average score of {top_student[1]:.2f}')"
   ]
  },
  {
   "cell_type": "code",
   "execution_count": null,
   "id": "f8c63b0c-549b-4361-b393-f5942d392afe",
   "metadata": {},
   "outputs": [],
   "source": [
    "def sorted_report():\n",
    "    sorted_data={name: sorted(grades) for name,grades in students.items()}\n",
    "    print(sorted_data)"
   ]
  },
  {
   "cell_type": "code",
   "execution_count": null,
   "id": "ab9d90a4-6b74-4628-a894-e54c17647dc2",
   "metadata": {},
   "outputs": [],
   "source": [
    "def menu():\n",
    "    while True:\n",
    "        print(\"1. adding\")\n",
    "        print(\"2.average\")\n",
    "        print(\"3.top student\")\n",
    "        print(\"4.sorted report\")\n",
    "        print(\"5.exit\")\n",
    "        choice=int(input(\"choose (1-5):\"))\n",
    "        if choice==1:\n",
    "            add_new_student_and_grades()\n",
    "        elif choice==2:\n",
    "             average_grade()\n",
    "        elif choice==3:\n",
    "            top_student()\n",
    "        elif choice==4:\n",
    "            sorted_report()\n",
    "        elif choice==5:\n",
    "            print(\"Exiting...\")\n",
    "            break\n",
    "        else:\n",
    "            print(\"INVALLID OPTION!!\")"
   ]
  },
  {
   "cell_type": "code",
   "execution_count": null,
   "id": "a9a1989b-a7fe-40bc-a628-3ac0e4282358",
   "metadata": {},
   "outputs": [],
   "source": [
    "menu()\n"
   ]
  }
 ],
 "metadata": {
  "kernelspec": {
   "display_name": "Python 3 (ipykernel)",
   "language": "python",
   "name": "python3"
  },
  "language_info": {
   "codemirror_mode": {
    "name": "ipython",
    "version": 3
   },
   "file_extension": ".py",
   "mimetype": "text/x-python",
   "name": "python",
   "nbconvert_exporter": "python",
   "pygments_lexer": "ipython3",
   "version": "3.13.2"
  }
 },
 "nbformat": 4,
 "nbformat_minor": 5
}
